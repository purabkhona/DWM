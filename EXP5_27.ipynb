{
  "nbformat": 4,
  "nbformat_minor": 0,
  "metadata": {
    "colab": {
      "provenance": [],
      "authorship_tag": "ABX9TyMy6F4T7Q2zR3QMlRwToO7G",
      "include_colab_link": true
    },
    "kernelspec": {
      "name": "python3",
      "display_name": "Python 3"
    },
    "language_info": {
      "name": "python"
    }
  },
  "cells": [
    {
      "cell_type": "markdown",
      "metadata": {
        "id": "view-in-github",
        "colab_type": "text"
      },
      "source": [
        "<a href=\"https://colab.research.google.com/github/purabkhona/DWM/blob/main/EXP5_27.ipynb\" target=\"_parent\"><img src=\"https://colab.research.google.com/assets/colab-badge.svg\" alt=\"Open In Colab\"/></a>"
      ]
    },
    {
      "cell_type": "code",
      "execution_count": 1,
      "metadata": {
        "colab": {
          "base_uri": "https://localhost:8080/"
        },
        "id": "s-Ca5fJ_Bqfc",
        "outputId": "ea53bccd-57f8-4560-e85c-68741c3a4c49"
      },
      "outputs": [
        {
          "output_type": "stream",
          "name": "stdout",
          "text": [
            "Frequent Itemsets:\n",
            "   support         itemsets\n",
            "0      0.6           (Beer)\n",
            "1      0.8          (Bread)\n",
            "2      0.8         (Diaper)\n",
            "3      0.8           (Milk)\n",
            "4      0.6   (Beer, Diaper)\n",
            "5      0.6  (Bread, Diaper)\n",
            "6      0.6    (Milk, Bread)\n",
            "7      0.6   (Milk, Diaper)\n",
            "\n",
            "Association Rules:\n",
            "  antecedents consequents  support  confidence    lift\n",
            "0      (Beer)    (Diaper)      0.6        1.00  1.2500\n",
            "1    (Diaper)      (Beer)      0.6        0.75  1.2500\n",
            "2     (Bread)    (Diaper)      0.6        0.75  0.9375\n",
            "3    (Diaper)     (Bread)      0.6        0.75  0.9375\n",
            "4      (Milk)     (Bread)      0.6        0.75  0.9375\n",
            "5     (Bread)      (Milk)      0.6        0.75  0.9375\n",
            "6      (Milk)    (Diaper)      0.6        0.75  0.9375\n",
            "7    (Diaper)      (Milk)      0.6        0.75  0.9375\n"
          ]
        }
      ],
      "source": [
        "from mlxtend.frequent_patterns import apriori, association_rules\n",
        "import pandas as pd\n",
        "dataset = [\n",
        "    ['Milk', 'Bread', 'Nutella'],\n",
        "    ['Milk', 'Diaper', 'Beer', 'Eggs'],\n",
        "    ['Milk', 'Bread', 'Diaper', 'Beer'],\n",
        "    ['Bread', 'Diaper', 'Beer'],\n",
        "    ['Milk', 'Bread', 'Diaper', 'Nutella']\n",
        "]\n",
        "items = sorted(set(item for transaction in dataset for item in transaction))\n",
        "df = pd.DataFrame([{item: (item in transaction) for item in items} for transaction in dataset])\n",
        "min_support = 0.5\n",
        "frequent_itemsets = apriori(df, min_support=min_support, use_colnames=True)\n",
        "min_confidence = 0.7\n",
        "rules = association_rules(frequent_itemsets, metric=\"confidence\", min_threshold=min_confidence)\n",
        "print(\"Frequent Itemsets:\")\n",
        "print(frequent_itemsets)\n",
        "print(\"\\nAssociation Rules:\")\n",
        "print(rules[['antecedents', 'consequents', 'support', 'confidence', 'lift']])"
      ]
    }
  ]
}